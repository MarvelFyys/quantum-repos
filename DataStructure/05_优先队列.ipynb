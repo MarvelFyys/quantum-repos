{
 "cells": [
  {
   "cell_type": "code",
   "execution_count": 1,
   "metadata": {},
   "outputs": [],
   "source": [
    "class Queue{\n",
    "    constructor(){\n",
    "        this.items=[];\n",
    "    }\n",
    "\n",
    "    // enqueue(item) 入队，将元素加入到队列中\n",
    "    enqueue(item){\n",
    "        this.items.push(item);\n",
    "    }\n",
    "\n",
    "    // dequeue() 出队，从队列中删除队头元素，返回删除的那个元素\n",
    "    dequeue(){\n",
    "        return this.items.shift();\n",
    "    }\n",
    "\n",
    "    // front() 查看队列的队头元素\n",
    "    front(){\n",
    "        return this.items[0];\n",
    "    }\n",
    "\n",
    "    // isEmpty() 查看队列是否为空\n",
    "    isEmpty(){\n",
    "        return this.items.length === 0;\n",
    "    }\n",
    "\n",
    "    // size() 查看队列中元素的个数\n",
    "    size(){\n",
    "        return this.items.length;\n",
    "    }\n",
    "\n",
    "    // toString() 将队列中的元素以字符串形式返回\n",
    "    toString(){\n",
    "        let result=\"\";\n",
    "        for (const item of this.items) {\n",
    "            result+=item+\" \";\n",
    "        }\n",
    "        return result;\n",
    "    }\n",
    "}"
   ]
  },
  {
   "cell_type": "code",
   "execution_count": 2,
   "metadata": {},
   "outputs": [],
   "source": [
    "// 优先队列内部的元素类\n",
    "class QueueElement{\n",
    "    constructor(element,priority){\n",
    "        this.element=element;\n",
    "        this.priority=priority;\n",
    "    }\n",
    "}"
   ]
  },
  {
   "cell_type": "code",
   "execution_count": 3,
   "metadata": {},
   "outputs": [],
   "source": [
    "// 优先队列类（继承 Queue 类）\n",
    "\n",
    "class PriorityQueue extends Queue{\n",
    "    constructor(){\n",
    "        super();\n",
    "    }\n",
    "\n",
    "    // enqueue(element, priority) 入队，将元素按优先级加入到队列中\n",
    "    // 重写enqueue\n",
    "    enqueue(element,priority){\n",
    "        // 根据传入的元素，创建 QueueElement 对象\n",
    "        const queueElement=new QueueElement(element,priority);\n",
    "\n",
    "        // 判断队列是否为空\n",
    "        if(this.isEmpty()){\n",
    "            this.items.push(queueElement);\n",
    "        } else{\n",
    "            // 定义一个变量记录是否成功添加了新元素\n",
    "            let added=false;\n",
    "\n",
    "            for (let i = 0; i < this.items.length; i++) {\n",
    "                // 让新插入的元素进行优先级比较，priority 值越小，优先级越大\n",
    "                if(queueElement.priority<this.items[i].priority){\n",
    "                    // 在指定的位置插入元素\n",
    "                    this.items.splice(i,0,queueElement);\n",
    "                    added=true;\n",
    "                    break;\n",
    "                }\n",
    "                \n",
    "            }\n",
    "\n",
    "            // 如果遍历完所有元素，优先级都大于新插入的元素，就将新插入的元素插入到最后\n",
    "            if (!added) {\n",
    "                this.items.push(queueElement);\n",
    "            }\n",
    "            \n",
    "        }\n",
    "    }\n",
    "    // dequeue() 出队，从队列中删除前端元素，返回删除的元素\n",
    "    // 继承 Queue 类的 dequeue()\n",
    "    dequeue(){\n",
    "        return super.dequeue();\n",
    "    }\n",
    "\n",
    "    // front() 查看队列的前端元素\n",
    "    // 继承 Queue 类的 front()\n",
    "    front(){\n",
    "        return super.front();\n",
    "    }\n",
    "\n",
    "    // isEmpty() 查看队列是否为空\n",
    "    // 继承 Queue 类的 isEmpty()\n",
    "    isEmpty(){\n",
    "        return super.isEmpty();\n",
    "    }\n",
    "\n",
    "    // size() 查看队列中元素的个数\n",
    "    // 继承 Queue 类的 size()\n",
    "    size(){\n",
    "        return super.size();\n",
    "    }\n",
    "\n",
    "    // toString() 将队列中元素以字符串形式返回\n",
    "    // 重写 toString()\n",
    "    toString(){\n",
    "        let result=\"\";\n",
    "        for (const item of this.items) {\n",
    "            result+=item.element+\"-\"+item.priority+\" \";\n",
    "        }\n",
    "        return result;\n",
    "    }\n",
    "}"
   ]
  },
  {
   "cell_type": "code",
   "execution_count": 4,
   "metadata": {},
   "outputs": [
    {
     "name": "stdout",
     "output_type": "stream",
     "text": [
      "[\n",
      "  QueueElement { element: 'A', priority: 10 },\n",
      "  QueueElement { element: 'C', priority: 11 },\n",
      "  QueueElement { element: 'B', priority: 15 },\n",
      "  QueueElement { element: 'E', priority: 18 },\n",
      "  QueueElement { element: 'D', priority: 20 }\n",
      "]\n"
     ]
    }
   ],
   "source": [
    "const priorityQueue=new PriorityQueue();\n",
    "\n",
    "// 入队\n",
    "priorityQueue.enqueue(\"A\",10);\n",
    "priorityQueue.enqueue(\"B\",15);\n",
    "priorityQueue.enqueue(\"C\",11);\n",
    "priorityQueue.enqueue(\"D\",20);\n",
    "priorityQueue.enqueue(\"E\",18);\n",
    "console.log(priorityQueue.items);"
   ]
  },
  {
   "cell_type": "code",
   "execution_count": 5,
   "metadata": {},
   "outputs": [
    {
     "name": "stdout",
     "output_type": "stream",
     "text": [
      "[\n",
      "  QueueElement { element: 'B', priority: 15 },\n",
      "  QueueElement { element: 'E', priority: 18 },\n",
      "  QueueElement { element: 'D', priority: 20 }\n",
      "]\n"
     ]
    }
   ],
   "source": [
    "// 出队\n",
    "priorityQueue.dequeue();\n",
    "priorityQueue.dequeue();\n",
    "console.log(priorityQueue.items);"
   ]
  },
  {
   "cell_type": "code",
   "execution_count": 6,
   "metadata": {},
   "outputs": [
    {
     "name": "stdout",
     "output_type": "stream",
     "text": [
      "false\n"
     ]
    }
   ],
   "source": [
    "console.log(priorityQueue.isEmpty());"
   ]
  },
  {
   "cell_type": "code",
   "execution_count": 7,
   "metadata": {},
   "outputs": [
    {
     "name": "stdout",
     "output_type": "stream",
     "text": [
      "3\n"
     ]
    }
   ],
   "source": [
    "console.log(priorityQueue.size());"
   ]
  },
  {
   "cell_type": "code",
   "execution_count": 8,
   "metadata": {},
   "outputs": [
    {
     "name": "stdout",
     "output_type": "stream",
     "text": [
      "B-15 E-18 D-20 \n"
     ]
    }
   ],
   "source": [
    "console.log(priorityQueue.toString());"
   ]
  }
 ],
 "metadata": {
  "kernelspec": {
   "display_name": "JavaScript (Node.js)",
   "language": "javascript",
   "name": "javascript"
  },
  "language_info": {
   "file_extension": ".js",
   "mimetype": "application/javascript",
   "name": "javascript",
   "version": "16.13.1"
  },
  "orig_nbformat": 4
 },
 "nbformat": 4,
 "nbformat_minor": 2
}
