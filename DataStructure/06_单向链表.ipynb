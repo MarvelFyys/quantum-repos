{
 "cells": [
  {
   "cell_type": "code",
   "execution_count": 1,
   "metadata": {},
   "outputs": [],
   "source": [
    "class LinkedList{\n",
    "    // 初始链表长度为 0\n",
    "    length=0;\n",
    "    // 初始 head 为 null，head 指向链表的第一个节点\n",
    "    head=null;\n",
    "    // 内部类（链表里的节点 Node）\n",
    "    Node=class{\n",
    "        data;\n",
    "        next=null;\n",
    "        constructor(data){\n",
    "            this.data=data;\n",
    "        }\n",
    "    };\n",
    "\n",
    "    // append() 往链表尾部追加数据\n",
    "    append(data){\n",
    "        // 1、创建新节点\n",
    "        const newNode=new this.Node(data);\n",
    "\n",
    "        // 2、追加新节点\n",
    "        if (this.length===0) {\n",
    "            this.head=newNode;\n",
    "        } else {\n",
    "            // 链表长度大于 0 时，在最后面添加新节点\n",
    "            let currentNode=this.head;\n",
    "            // 当 currentNode.next 不为空时，\n",
    "            // 循序依次找最后一个节点，即节点的 next 为 null 时\n",
    "            while(currentNode.next!==null){\n",
    "                currentNode=currentNode.next;\n",
    "            }         \n",
    "            // 最后一个节点的 next 指向新节点\n",
    "            currentNode.next=newNode;\n",
    "\n",
    "        }\n",
    "        // 3、追加完新节点后，链表长度 + 1\n",
    "        this.length++;\n",
    "    }\n",
    "\n",
    "  // insert() 在指定位置（position）插入节点\n",
    "  insert(position, data) {\n",
    "    // position 新插入节点的位置\n",
    "    // position = 0 表示新插入后是第一个节点\n",
    "    // position = 1 表示新插入后是第二个节点，以此类推\n",
    "\n",
    "    // 1、对 position 进行越界判断，不能小于 0 或大于链表长度\n",
    "    if (position < 0 || position > this.length) return false;\n",
    "\n",
    "    // 2、创建新节点\n",
    "    const newNode = new this.Node(data);\n",
    "\n",
    "    // 3、插入节点\n",
    "    if (position === 0) {\n",
    "      // position = 0 的情况\n",
    "      // 让新节点的 next 指向 原来的第一个节点，即 head\n",
    "      newNode.next = this.head;\n",
    "\n",
    "      // head 赋值为 newNode\n",
    "      this.head = newNode;\n",
    "    } else {\n",
    "      // 0 < position <= length 的情况\n",
    "\n",
    "      // 初始化一些变量\n",
    "      let currentNode = this.head; // 当前节点初始化为 head\n",
    "      let previousNode = null; // head 的 上一节点为 null\n",
    "      let index = 0; // head 的 index 为 0\n",
    "\n",
    "      // 在 0 ~ position 之间遍历，不断地更新 currentNode 和 previousNode\n",
    "      // 直到找到要插入的位置\n",
    "      while (index++ < position) {\n",
    "        previousNode = currentNode;\n",
    "        currentNode = currentNode.next;\n",
    "      }\n",
    "\n",
    "      // 在当前节点和当前节点的上一节点之间插入新节点，即它们的改变指向\n",
    "      newNode.next = currentNode;\n",
    "      previousNode.next = newNode;\n",
    "    }\n",
    "\n",
    "    // 更新链表长度\n",
    "    this.length++;\n",
    "    return newNode;\n",
    "  }\n",
    "\n",
    "    getData(position){\n",
    "        // 1、position 越界判断\n",
    "        if (position < 0 || position >= this.length) {\n",
    "            return null;\n",
    "        }\n",
    "\n",
    "        // 2、获取指定 position 节点的 data\n",
    "        let currentNode=this.head;\n",
    "        let index=0;\n",
    "\n",
    "        while (index++ < position) {\n",
    "            currentNode = currentNode.next;\n",
    "        }\n",
    "\n",
    "        return currentNode.data;\n",
    "    }\n",
    "\n",
    "    indexOf(data){\n",
    "        let currentNode = this.head;\n",
    "        let index = 0;\n",
    "        while (currentNode) {\n",
    "            if (currentNode.data === data) {\n",
    "                return index;\n",
    "            }\n",
    "            currentNode = currentNode.next;\n",
    "            index++;\n",
    "        }\n",
    "\n",
    "        return -1;\n",
    "    }\n",
    "\n",
    "    update(position,data) {\n",
    "        // 涉及到 position 都要进行越界判断\n",
    "        // 1、position 越界判断\n",
    "        if (position < 0 || position >= this.length) {\n",
    "            return false;\n",
    "        }\n",
    "\n",
    "        // 2、痛过循环遍历，找到指定 position 的节点\n",
    "        let currentNode = this.head;\n",
    "        let index = 0;\n",
    "        while (index++ < position) {\n",
    "            currentNode = currentNode.next;\n",
    "        }\n",
    "\n",
    "        // 3、修改节点 data\n",
    "        currentNode.data = data;\n",
    "\n",
    "        return currentNode;\n",
    "    }\n",
    "\n",
    "    // removeAt(position)删除指定位置的节点\n",
    "    removeAt(position){\n",
    "        // 1、position 越界判断\n",
    "        if (position < 0 || position >=this.length) {\n",
    "            return null;\n",
    "        }\n",
    "\n",
    "        // 2、删除指定 position 节点\n",
    "        let currentNode = this.head;\n",
    "        if (position === 0) {\n",
    "            // position = 0 的情况\n",
    "            this.head = this.head.next;\n",
    "        } else {\n",
    "            // position > 0 的情况\n",
    "            // 通过循环遍历，找到指定 position 的节点，赋值到 currentNode\n",
    "\n",
    "            let previousNode = null;\n",
    "            let index = 0;\n",
    "\n",
    "            while (index++ < position) {\n",
    "                previousNode = currentNode;\n",
    "                currentNode = currentNode.next;\n",
    "            }\n",
    "\n",
    "            // 巧妙之处，让上一节点的 next 指向到当前的节点的 next，相当于删除了当前节点\n",
    "            previousNode.next=currentNode.next;\n",
    "\n",
    "            // 3、更新链表长度 -1\n",
    "            this.length--;\n",
    "\n",
    "            return currentNode;\n",
    "        }\n",
    "    }\n",
    "\n",
    "    // remove(data) 删除指定 data 所在的节点。\n",
    "    remove(data){\n",
    "        this.removeAt(this.indexOf(data));\n",
    "    }\n",
    "\n",
    "    isEmpty(){\n",
    "        return this.length === 0;\n",
    "    }\n",
    "\n",
    "    size(){\n",
    "        return this.length;\n",
    "    }\n",
    "\n",
    "    toString(){\n",
    "        let currentNode=this.head;\n",
    "        let result='';\n",
    "\n",
    "        // 遍历所有的节点，拼接为字符串，直到节点为 null\n",
    "        while(currentNode){\n",
    "            result+=currentNode.data+' ';\n",
    "            currentNode=currentNode.next;\n",
    "        }\n",
    "\n",
    "        return result;\n",
    "    }\n",
    "\n",
    "}\n",
    "\n"
   ]
  },
  {
   "cell_type": "code",
   "execution_count": 2,
   "metadata": {},
   "outputs": [
    {
     "name": "stdout",
     "output_type": "stream",
     "text": [
      "LinkedList {\n",
      "  length: 3,\n",
      "  head: Node { data: 'A', next: Node { data: 'B', next: [Node] } },\n",
      "  Node: [class Node]\n",
      "}\n"
     ]
    }
   ],
   "source": [
    "const linkedList = new LinkedList();\n",
    "\n",
    "linkedList.append(\"A\");\n",
    "linkedList.append(\"B\");\n",
    "linkedList.append(\"C\");\n",
    "\n",
    "console.log(linkedList);"
   ]
  },
  {
   "cell_type": "code",
   "execution_count": 3,
   "metadata": {},
   "outputs": [
    {
     "name": "stdout",
     "output_type": "stream",
     "text": [
      "A B C \n"
     ]
    }
   ],
   "source": [
    "console.log(linkedList.toString());"
   ]
  },
  {
   "cell_type": "code",
   "execution_count": 4,
   "metadata": {},
   "outputs": [
    {
     "name": "stdout",
     "output_type": "stream",
     "text": [
      "123 A 456 B C \n"
     ]
    }
   ],
   "source": [
    "linkedList.insert(0,\"123\");\n",
    "linkedList.insert(2,\"456\");\n",
    "console.log(linkedList.toString());"
   ]
  },
  {
   "cell_type": "code",
   "execution_count": 5,
   "metadata": {},
   "outputs": [
    {
     "name": "stdout",
     "output_type": "stream",
     "text": [
      "LinkedList {\n",
      "  length: 5,\n",
      "  head: Node { data: '123', next: Node { data: 'A', next: [Node] } },\n",
      "  Node: [class Node]\n",
      "}\n"
     ]
    }
   ],
   "source": [
    "console.log(linkedList);"
   ]
  },
  {
   "cell_type": "code",
   "execution_count": 6,
   "metadata": {},
   "outputs": [
    {
     "data": {
      "text/plain": [
       "Node { data: '789', next: null }"
      ]
     },
     "execution_count": 6,
     "metadata": {},
     "output_type": "execute_result"
    }
   ],
   "source": [
    "linkedList.insert(5,\"789\");"
   ]
  },
  {
   "cell_type": "code",
   "execution_count": 7,
   "metadata": {},
   "outputs": [
    {
     "name": "stdout",
     "output_type": "stream",
     "text": [
      "123 A 456 B C 789 \n"
     ]
    }
   ],
   "source": [
    "console.log(linkedList.toString());"
   ]
  },
  {
   "cell_type": "code",
   "execution_count": 8,
   "metadata": {},
   "outputs": [
    {
     "name": "stdout",
     "output_type": "stream",
     "text": [
      "123\n",
      "A\n"
     ]
    }
   ],
   "source": [
    "console.log(linkedList.getData(0));\n",
    "console.log(linkedList.getData(1));"
   ]
  },
  {
   "cell_type": "code",
   "execution_count": 9,
   "metadata": {},
   "outputs": [
    {
     "name": "stdout",
     "output_type": "stream",
     "text": [
      "1\n",
      "3\n"
     ]
    }
   ],
   "source": [
    "console.log(linkedList.indexOf(\"A\"));\n",
    "console.log(linkedList.indexOf(\"B\"));"
   ]
  },
  {
   "cell_type": "code",
   "execution_count": 10,
   "metadata": {},
   "outputs": [
    {
     "name": "stdout",
     "output_type": "stream",
     "text": [
      "123456 A 456 B C 789 \n",
      "123456 654321 456 B C 789 \n"
     ]
    }
   ],
   "source": [
    "linkedList.update(0,\"123456\");\n",
    "console.log(linkedList.toString());\n",
    "linkedList.update(1,\"654321\");\n",
    "console.log(linkedList.toString());"
   ]
  },
  {
   "cell_type": "code",
   "execution_count": 11,
   "metadata": {},
   "outputs": [
    {
     "name": "stdout",
     "output_type": "stream",
     "text": [
      "123456 654321 456 C 789 \n"
     ]
    }
   ],
   "source": [
    "linkedList.removeAt(3);\n",
    "console.log(linkedList.toString());"
   ]
  },
  {
   "cell_type": "code",
   "execution_count": 12,
   "metadata": {},
   "outputs": [
    {
     "name": "stdout",
     "output_type": "stream",
     "text": [
      "123456 654321 456 789 \n"
     ]
    }
   ],
   "source": [
    "linkedList.remove(\"C\");\n",
    "console.log(linkedList.toString());"
   ]
  }
 ],
 "metadata": {
  "kernelspec": {
   "display_name": "JavaScript (Node.js)",
   "language": "javascript",
   "name": "javascript"
  },
  "language_info": {
   "file_extension": ".js",
   "mimetype": "application/javascript",
   "name": "javascript",
   "version": "16.13.1"
  },
  "orig_nbformat": 4
 },
 "nbformat": 4,
 "nbformat_minor": 2
}
