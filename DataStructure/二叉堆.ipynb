{
 "cells": [
  {
   "cell_type": "code",
   "execution_count": 1,
   "metadata": {},
   "outputs": [],
   "source": [
    "// 初始化二叉堆\n",
    "// 二叉堆其实就是一个数组\n",
    "\n",
    "class Heap {\n",
    "    constructor() {\n",
    "        this.heap = [];\n",
    "    }\n",
    "\n",
    "    // 进行基本比较\n",
    "    compare(a, b) {\n",
    "        if (a === b) {\n",
    "            return 0;\n",
    "        }\n",
    "        return a < b ? -1 : 1;\n",
    "    }\n",
    "\n",
    "    size() {\n",
    "        return this.heap.length;\n",
    "    }\n",
    "\n",
    "    // 获取左节点\n",
    "    left(position) {\n",
    "        return 2 * position + 1;\n",
    "    }\n",
    "\n",
    "    // 获取右节点\n",
    "    right(position) {\n",
    "        return 2 * position + 2;\n",
    "    }\n",
    "\n",
    "    // 获取父节点\n",
    "    parent(position) {\n",
    "        if (position == 0) {\n",
    "            return null;\n",
    "        }\n",
    "\n",
    "        return Math.floor((position - 1) / 2);\n",
    "    }\n",
    "\n",
    "    insert(val) {\n",
    "        if (val == null) {\n",
    "            return false;\n",
    "        }\n",
    "        this.heap.push(val);\n",
    "        this.siftUp(this.heap.length -1);\n",
    "        return true;\n",
    "    }\n",
    "\n",
    "    siftUp(position) {\n",
    "        let parent = this.parent(position);\n",
    "        while (position > 0 && this.compare(this.heap[parent],this.heap[position]) === 1) {\n",
    "            this.swap(this.heap,parent,position);\n",
    "            position = parent;\n",
    "            parent = this.parent(position);\n",
    "        }\n",
    "    }\n",
    "\n",
    "    swap(arr,a,b) {\n",
    "        let temp = arr[a];\n",
    "        arr[a] = arr[b];\n",
    "        arr[b] = temp;\n",
    "    }\n",
    "\n",
    "    isEmpty() {\n",
    "        return this.size() === 0;\n",
    "    }\n",
    "\n",
    "    min() {\n",
    "        return this.isEmpty() ? null : this.heap[0];\n",
    "    }\n",
    "\n",
    "    extract() {\n",
    "        if (this.isEmpty()) {\n",
    "            return null;\n",
    "        }\n",
    "\n",
    "        if (this.size() === 1) {\n",
    "            return this.heap.shift();\n",
    "        }\n",
    "    }\n",
    "}"
   ]
  },
  {
   "cell_type": "code",
   "execution_count": 2,
   "metadata": {},
   "outputs": [],
   "source": [
    "const heap = new Heap();\n",
    "heap.insert(2);\n",
    "heap.insert(3);\n",
    "heap.insert(4);\n",
    "heap.insert(5);\n",
    "heap.insert(1);"
   ]
  },
  {
   "cell_type": "code",
   "execution_count": 4,
   "metadata": {},
   "outputs": [
    {
     "name": "stdout",
     "output_type": "stream",
     "text": [
      "Heap { heap: [ 2, 3, 4, 5, 1 ] }\n"
     ]
    }
   ],
   "source": [
    "console.log(heap);"
   ]
  },
  {
   "cell_type": "code",
   "execution_count": 5,
   "metadata": {},
   "outputs": [
    {
     "name": "stdout",
     "output_type": "stream",
     "text": [
      "0\n"
     ]
    }
   ],
   "source": [
    "console.log(heap.parent(2));"
   ]
  }
 ],
 "metadata": {
  "kernelspec": {
   "display_name": "JavaScript (Node.js)",
   "language": "javascript",
   "name": "javascript"
  },
  "language_info": {
   "file_extension": ".js",
   "mimetype": "application/javascript",
   "name": "javascript",
   "version": "16.13.1"
  },
  "orig_nbformat": 4
 },
 "nbformat": 4,
 "nbformat_minor": 2
}
