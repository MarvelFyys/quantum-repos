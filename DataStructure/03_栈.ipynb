{
 "cells": [
  {
   "cell_type": "code",
   "execution_count": 10,
   "metadata": {},
   "outputs": [
    {
     "ename": "SyntaxError",
     "evalue": "Identifier 'Stack' has already been declared",
     "output_type": "error",
     "traceback": [
      "evalmachine.<anonymous>:1",
      "// 栈结构的封装",
      "^",
      "",
      "SyntaxError: Identifier 'Stack' has already been declared",
      "    at Script.runInThisContext (node:vm:129:12)",
      "    at Object.runInThisContext (node:vm:305:38)",
      "    at run ([eval]:1054:15)",
      "    at onRunRequest ([eval]:888:18)",
      "    at onMessage ([eval]:848:13)",
      "    at process.emit (node:events:390:28)",
      "    at emit (node:internal/child_process:917:12)",
      "    at processTicksAndRejections (node:internal/process/task_queues:84:21)"
     ]
    }
   ],
   "source": [
    "// 栈结构的封装\n",
    "class Stack{\n",
    "    constructor(){\n",
    "        this.items=[];\n",
    "    }\n",
    "\n",
    "    // push(item) 压栈操作，往栈里面添加元素\n",
    "    push(item){\n",
    "        this.items.push(item);\n",
    "    }\n",
    "\n",
    "    // pop() 出栈操作，从栈中取出元素，并返回取出的那个元素\n",
    "    pop(){\n",
    "        return this.items.pop();\n",
    "    }\n",
    "\n",
    "    // peek() 查看栈顶元素\n",
    "    peek(){\n",
    "        return this.items[this.items.length-1];\n",
    "    }\n",
    "\n",
    "    // isEmpty() 判断栈是否为空\n",
    "    isEmpty(){\n",
    "        return this.items.length===0;\n",
    "    }\n",
    "\n",
    "    // size() 获取栈中元素个数\n",
    "    size(){\n",
    "        return this.items.length;\n",
    "    }\n",
    "\n",
    "    // toString() 返回以字符串形式的栈内元素数据\n",
    "    toString(){\n",
    "        let result=\"\";\n",
    "        for (const item in this.items) {\n",
    "            result+=item+\" \";\n",
    "        }\n",
    "        return result;\n",
    "    }\n",
    "\n",
    "}"
   ]
  },
  {
   "cell_type": "code",
   "execution_count": null,
   "metadata": {},
   "outputs": [],
   "source": [
    "var stack=new Stack();"
   ]
  },
  {
   "cell_type": "code",
   "execution_count": null,
   "metadata": {},
   "outputs": [
    {
     "name": "stdout",
     "output_type": "stream",
     "text": [
      "[ 1, 2, 3 ]\n"
     ]
    }
   ],
   "source": [
    "stack.push(1);\n",
    "stack.push(2);\n",
    "stack.push(3);\n",
    "console.log(stack.items);"
   ]
  },
  {
   "cell_type": "code",
   "execution_count": null,
   "metadata": {},
   "outputs": [
    {
     "name": "stdout",
     "output_type": "stream",
     "text": [
      "3\n"
     ]
    }
   ],
   "source": [
    "// pop()\n",
    "console.log(stack.pop());"
   ]
  },
  {
   "cell_type": "code",
   "execution_count": null,
   "metadata": {},
   "outputs": [
    {
     "name": "stdout",
     "output_type": "stream",
     "text": [
      "2\n"
     ]
    }
   ],
   "source": [
    "// peek()\n",
    "console.log(stack.peek());"
   ]
  },
  {
   "cell_type": "code",
   "execution_count": null,
   "metadata": {},
   "outputs": [
    {
     "name": "stdout",
     "output_type": "stream",
     "text": [
      "false\n"
     ]
    }
   ],
   "source": [
    "// isEmpty()\n",
    "console.log(stack.isEmpty());"
   ]
  },
  {
   "cell_type": "code",
   "execution_count": null,
   "metadata": {},
   "outputs": [
    {
     "name": "stdout",
     "output_type": "stream",
     "text": [
      "2\n"
     ]
    }
   ],
   "source": [
    "// size()\n",
    "console.log(stack.size());"
   ]
  },
  {
   "cell_type": "code",
   "execution_count": null,
   "metadata": {},
   "outputs": [
    {
     "name": "stdout",
     "output_type": "stream",
     "text": [
      "0 1 \n"
     ]
    }
   ],
   "source": [
    "//toString\n",
    "console.log(stack.toString()); "
   ]
  },
  {
   "cell_type": "code",
   "execution_count": null,
   "metadata": {},
   "outputs": [
    {
     "name": "stdout",
     "output_type": "stream",
     "text": [
      "[ 1, 2 ]\n"
     ]
    }
   ],
   "source": [
    "console.log(stack.items);"
   ]
  },
  {
   "cell_type": "code",
   "execution_count": 11,
   "metadata": {},
   "outputs": [],
   "source": [
    "// 利用栈结构的特点封装实现十进制转换为二进制的方法\n",
    "\n",
    "function dec2bin(dec) {\n",
    "    // new 一个 Stack，保存余数\n",
    "    const stack=new Stack();\n",
    "\n",
    "    // 当不确定循环次数时，使用 while 循环\n",
    "    while (dec>0) {\n",
    "        // 除二取余法\n",
    "        stack.push(dec%2);\n",
    "        dec=Math.floor(dec/2);//向上取整\n",
    "    }\n",
    "\n",
    "    let binaryString=\"\";\n",
    "    // 不断地从栈中取出元素（0 或 1），并拼接到一起。\n",
    "    while (!stack.isEmpty()) {\n",
    "        binaryString+=stack.pop();\n",
    "    }\n",
    "\n",
    "    return binaryString;\n",
    "}"
   ]
  },
  {
   "cell_type": "code",
   "execution_count": 12,
   "metadata": {},
   "outputs": [
    {
     "name": "stdout",
     "output_type": "stream",
     "text": [
      "1100100\n"
     ]
    }
   ],
   "source": [
    "console.log(dec2bin(100));"
   ]
  },
  {
   "cell_type": "code",
   "execution_count": 13,
   "metadata": {},
   "outputs": [
    {
     "name": "stdout",
     "output_type": "stream",
     "text": [
      "1011000\n"
     ]
    }
   ],
   "source": [
    "console.log(dec2bin(88));"
   ]
  }
 ],
 "metadata": {
  "kernelspec": {
   "display_name": "JavaScript (Node.js)",
   "language": "javascript",
   "name": "javascript"
  },
  "language_info": {
   "file_extension": ".js",
   "mimetype": "application/javascript",
   "name": "javascript",
   "version": "16.13.1"
  },
  "orig_nbformat": 4
 },
 "nbformat": 4,
 "nbformat_minor": 2
}
