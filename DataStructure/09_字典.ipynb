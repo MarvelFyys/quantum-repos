{
 "cells": [
  {
   "cell_type": "code",
   "execution_count": 1,
   "metadata": {},
   "outputs": [],
   "source": [
    "class Map {\n",
    "    constructor() {\n",
    "        this.items = {};\n",
    "    }\n",
    "    // has(key) 判断字典中是否存在某个 key\n",
    "    has(key) {\n",
    "        return this.items.hasOwnProperty(key);\n",
    "    }\n",
    "\n",
    "    // set(key, value) 在字典中添加键值对\n",
    "    set(key,value) {\n",
    "        this.items[key] = value;\n",
    "    }    \n",
    "\n",
    "    // remove(key) 在字典中删除指定的 key\n",
    "    remove(key) {\n",
    "        // 如果集合不存在该 key，返回 false\n",
    "        if (!this.has(key)) {\n",
    "            return false;\n",
    "        }\n",
    "        delete this.items[key];\n",
    "    }\n",
    "\n",
    "    // get(key) 获取指定 key 的 value，如果没有，返回 undefined\n",
    "    get(key) {\n",
    "        return this.has(key) ? this.items[key] : undefined;\n",
    "    }\n",
    "\n",
    "    // 获取所有的 key\n",
    "    keys() {\n",
    "        return Object.keys(this.items);\n",
    "    }\n",
    "\n",
    "    // 获取所有的 value\n",
    "    values() {\n",
    "        return Object.values(this.items);\n",
    "    }\n",
    "\n",
    "    // size() 获取字典中的键值对个数\n",
    "    size() {\n",
    "        return this.keys().length;\n",
    "    }\n",
    "\n",
    "    // clear() 清空字典中所有的键值对\n",
    "    clear() {\n",
    "        this.items = {};\n",
    "    }\n",
    "}"
   ]
  },
  {
   "cell_type": "code",
   "execution_count": 2,
   "metadata": {},
   "outputs": [],
   "source": [
    "const map = new Map();"
   ]
  },
  {
   "cell_type": "code",
   "execution_count": 3,
   "metadata": {},
   "outputs": [
    {
     "name": "stdout",
     "output_type": "stream",
     "text": [
      "Map { items: { name: 'Bob', age: 18, email: '172872@qq.com' } }\n"
     ]
    }
   ],
   "source": [
    "// set()测试\n",
    "map.set(\"name\",\"Bob\");\n",
    "map.set(\"age\",18);\n",
    "map.set(\"email\",\"172872@qq.com\");\n",
    "console.log(map);"
   ]
  },
  {
   "cell_type": "code",
   "execution_count": 5,
   "metadata": {},
   "outputs": [
    {
     "name": "stdout",
     "output_type": "stream",
     "text": [
      "true\n",
      "false\n"
     ]
    }
   ],
   "source": [
    "// has()\n",
    "console.log(map.has(\"name\"));\n",
    "console.log(map.has(\"address\"));"
   ]
  },
  {
   "cell_type": "code",
   "execution_count": 6,
   "metadata": {},
   "outputs": [
    {
     "name": "stdout",
     "output_type": "stream",
     "text": [
      "Map { items: { age: 18, email: '172872@qq.com' } }\n"
     ]
    }
   ],
   "source": [
    "// remove()\n",
    "map.remove(\"name\");\n",
    "console.log(map);"
   ]
  },
  {
   "cell_type": "code",
   "execution_count": 7,
   "metadata": {},
   "outputs": [
    {
     "name": "stdout",
     "output_type": "stream",
     "text": [
      "18\n"
     ]
    }
   ],
   "source": [
    "// get()\n",
    "console.log(map.get(\"age\"));"
   ]
  },
  {
   "cell_type": "code",
   "execution_count": 8,
   "metadata": {},
   "outputs": [
    {
     "name": "stdout",
     "output_type": "stream",
     "text": [
      "[ 'age', 'email' ]\n"
     ]
    }
   ],
   "source": [
    "// keys()\n",
    "console.log(map.keys());"
   ]
  },
  {
   "cell_type": "code",
   "execution_count": 9,
   "metadata": {},
   "outputs": [
    {
     "name": "stdout",
     "output_type": "stream",
     "text": [
      "[ 18, '172872@qq.com' ]\n"
     ]
    }
   ],
   "source": [
    "// values()\n",
    "console.log(map.values());"
   ]
  },
  {
   "cell_type": "code",
   "execution_count": 10,
   "metadata": {},
   "outputs": [
    {
     "name": "stdout",
     "output_type": "stream",
     "text": [
      "2\n"
     ]
    }
   ],
   "source": [
    "// size()\n",
    "console.log(map.size());"
   ]
  }
 ],
 "metadata": {
  "kernelspec": {
   "display_name": "JavaScript (Node.js)",
   "language": "javascript",
   "name": "javascript"
  },
  "language_info": {
   "file_extension": ".js",
   "mimetype": "application/javascript",
   "name": "javascript",
   "version": "16.13.1"
  },
  "orig_nbformat": 4
 },
 "nbformat": 4,
 "nbformat_minor": 2
}
