{
 "cells": [
  {
   "cell_type": "code",
   "execution_count": 1,
   "metadata": {},
   "outputs": [],
   "source": [
    "// 集合结构的封装\n",
    "class Set {\n",
    "    constructor() {\n",
    "        this.items = {};\n",
    "    }\n",
    "\n",
    "    // has(value) 判断集合中是否存在 value 值，存在返回 true，否则返回 false\n",
    "    has(value) {\n",
    "        return this.items.hasOwnProperty(value);\n",
    "    }\n",
    "\n",
    "    // add(value) 往集合中添加 value \n",
    "    add(value) {\n",
    "        if (this.has(value)) {\n",
    "            return false;\n",
    "        }\n",
    "        this.items[value] = value;\n",
    "        return true;\n",
    "    }   \n",
    "\n",
    "    // remove(value) 删除集合中指定的 value\n",
    "    remove(value) {\n",
    "        // 如果集合不存在该 value，返回 false\n",
    "        if (!this.has(value)) {\n",
    "            return false;\n",
    "        }\n",
    "        delete this.items[value];\n",
    "    }\n",
    "\n",
    "    // clear() 清空集合中所有 value\n",
    "    clear() {\n",
    "        this.items = {};\n",
    "    }\n",
    "\n",
    "    // size() 获取集合中的 value 个数\n",
    "    size() {\n",
    "        return Object.keys(this.items).length;\n",
    "    }\n",
    "\n",
    "    // values() 获取集合中所有的 value\n",
    "    values() {\n",
    "        return Object.keys(this.items);\n",
    "    }\n",
    "\n",
    "    // 并集的实现\n",
    "    // union() 求两个集合的并集\n",
    "    union(otherSet) {\n",
    "        // 1、创建一个新集合\n",
    "        let unionSet = new Set();\n",
    "        // 2、将当前集合（this）的所有 value，添加到新集合（unionSet）中\n",
    "        for (const value of this.values()) {\n",
    "            unionSet.add(value);\n",
    "        }\n",
    "\n",
    "        // 3、将 otherSet 集合的所有 value，添加到新集合（unionSet）中\n",
    "        for (const value of otherSet.values()) {\n",
    "            unionSet.add(value);\n",
    "        }\n",
    "\n",
    "        return unionSet;\n",
    "    }\n",
    "\n",
    "    // 交集的实现\n",
    "    // intersection() 求两个集合的交集\n",
    "    intersection() {\n",
    "        // 1、创建一个新集合\n",
    "        let intersectionSet = new Set();\n",
    "\n",
    "         // 2、从当前集合中取出每一个 value，判断是否在 otherSet 集合中存在\n",
    "         for (const value of this.values()) {\n",
    "             if (otherSet.has(value)) {\n",
    "                 intersectionSet.add(value);\n",
    "             }\n",
    "         }\n",
    "\n",
    "         return intersectionSet;\n",
    "    }\n",
    "\n",
    "    // 差集的实现\n",
    "    // difference() 差集\n",
    "    difference(otherSet) {\n",
    "        // 1、创建一个新集合\n",
    "        let differenceSet = new Set();\n",
    "\n",
    "        // 2、从当前集合中取出每一个 value，判断是否在 otherSet 集合中存在，不存在的即为差集\n",
    "        for (const value of this.values()) {\n",
    "            if (!otherSet.has(value)) {\n",
    "                differenceSet.add(value);\n",
    "            }\n",
    "        }\n",
    "\n",
    "        return differenceSet;\n",
    "    }\n",
    "\n",
    "    // 子集的实现\n",
    "    // subset() 子集\n",
    "    subset(otherSet) {\n",
    "        // 从当前集合中取出每一个 value，判断是否在 otherSet 集合中存在，有不存在的返回 false\n",
    "        // 遍历完所有的，返回 true\n",
    "        for (const value of this.values()) {\n",
    "            if (!otherSet.has(value)) {\n",
    "                return false;\n",
    "            }\n",
    "        }\n",
    "\n",
    "        return false;\n",
    "    }\n",
    "}"
   ]
  },
  {
   "cell_type": "code",
   "execution_count": 2,
   "metadata": {},
   "outputs": [
    {
     "name": "stdout",
     "output_type": "stream",
     "text": [
      "Set { items: { a: 'a', b: 'b', c: 'c', V: 'V' } }\n"
     ]
    }
   ],
   "source": [
    "const set = new Set();\n",
    "\n",
    "// add()\n",
    "set.add(\"a\");\n",
    "set.add(\"b\");\n",
    "set.add(\"c\");\n",
    "set.add(\"V\");\n",
    "console.log(set);"
   ]
  },
  {
   "cell_type": "code",
   "execution_count": 3,
   "metadata": {},
   "outputs": [
    {
     "name": "stdout",
     "output_type": "stream",
     "text": [
      "false\n",
      "true\n"
     ]
    }
   ],
   "source": [
    "// has()\n",
    "console.log(set.has(\"2\"));\n",
    "console.log(set.has(\"a\"));"
   ]
  },
  {
   "cell_type": "code",
   "execution_count": 4,
   "metadata": {},
   "outputs": [
    {
     "name": "stdout",
     "output_type": "stream",
     "text": [
      "Set { items: { b: 'b', c: 'c', V: 'V' } }\n"
     ]
    }
   ],
   "source": [
    "// remove()\n",
    "set.remove(\"a\");\n",
    "console.log(set);"
   ]
  },
  {
   "cell_type": "code",
   "execution_count": 5,
   "metadata": {},
   "outputs": [
    {
     "name": "stdout",
     "output_type": "stream",
     "text": [
      "3\n"
     ]
    }
   ],
   "source": [
    "// size()\n",
    "console.log(set.size());"
   ]
  },
  {
   "cell_type": "code",
   "execution_count": 6,
   "metadata": {},
   "outputs": [
    {
     "name": "stdout",
     "output_type": "stream",
     "text": [
      "[ 'b', 'c', 'V' ]\n"
     ]
    }
   ],
   "source": [
    "// values()\n",
    "console.log(set.values());"
   ]
  },
  {
   "cell_type": "code",
   "execution_count": 7,
   "metadata": {},
   "outputs": [
    {
     "name": "stdout",
     "output_type": "stream",
     "text": [
      "[]\n"
     ]
    }
   ],
   "source": [
    "// clear()\n",
    "set.clear();\n",
    "console.log(set.values());"
   ]
  },
  {
   "cell_type": "code",
   "execution_count": 13,
   "metadata": {},
   "outputs": [
    {
     "name": "stdout",
     "output_type": "stream",
     "text": [
      "┌─────────┬───┬───┐\n",
      "│ (index) │ 0 │ 1 │\n",
      "├─────────┼───┼───┤\n",
      "│    0    │ 1 │ 2 │\n",
      "│    1    │ 3 │ 4 │\n",
      "└─────────┴───┴───┘\n"
     ]
    }
   ],
   "source": [
    "var arr = [];\n",
    "\n",
    "arr.push([1,2]);\n",
    "arr.push([3,4]);\n",
    "\n",
    "console.table(arr);"
   ]
  },
  {
   "cell_type": "code",
   "execution_count": 15,
   "metadata": {},
   "outputs": [
    {
     "ename": "SyntaxError",
     "evalue": "Identifier 'Person' has already been declared",
     "output_type": "error",
     "traceback": [
      "evalmachine.<anonymous>:1",
      "class Person {",
      "^",
      "",
      "SyntaxError: Identifier 'Person' has already been declared",
      "    at Script.runInThisContext (node:vm:129:12)",
      "    at Object.runInThisContext (node:vm:305:38)",
      "    at run ([eval]:1054:15)",
      "    at onRunRequest ([eval]:888:18)",
      "    at onMessage ([eval]:848:13)",
      "    at process.emit (node:events:390:28)",
      "    at emit (node:internal/child_process:917:12)",
      "    at processTicksAndRejections (node:internal/process/task_queues:84:21)"
     ]
    }
   ],
   "source": [
    "class Person {\n",
    "    #age;\n",
    "\n",
    "    constructor(name){\n",
    "        this.name = name;\n",
    "    }\n",
    "    set age(age){\n",
    "        this.#age = age;\n",
    "    }\n",
    "\n",
    "    get age(){\n",
    "        return this.#age;\n",
    "    }\n",
    "}\n",
    "\n",
    "const p = new Person(\"张三\");\n",
    "\n",
    "console.log(p);\n",
    "\n",
    "p.age = 18;\n",
    "\n",
    "console.log(p);\n"
   ]
  },
  {
   "cell_type": "code",
   "execution_count": 16,
   "metadata": {},
   "outputs": [
    {
     "name": "stdout",
     "output_type": "stream",
     "text": [
      "Person { name: '张三' }\n"
     ]
    }
   ],
   "source": [
    "console.log(p);"
   ]
  }
 ],
 "metadata": {
  "kernelspec": {
   "display_name": "JavaScript (Node.js)",
   "language": "javascript",
   "name": "javascript"
  },
  "language_info": {
   "file_extension": ".js",
   "mimetype": "application/javascript",
   "name": "javascript",
   "version": "16.13.1"
  },
  "orig_nbformat": 4
 },
 "nbformat": 4,
 "nbformat_minor": 2
}
