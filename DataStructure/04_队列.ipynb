{
 "cells": [
  {
   "cell_type": "code",
   "execution_count": 1,
   "metadata": {},
   "outputs": [],
   "source": [
    "class Queue{\n",
    "    constructor(){\n",
    "        this.items=[];\n",
    "    }\n",
    "\n",
    "    // enqueue(item) 入队，将元素加入到队列中\n",
    "    enqueue(item){\n",
    "        this.items.push(item);\n",
    "    }\n",
    "\n",
    "    // dequeue() 出队，从队列中删除队头元素，返回删除的那个元素\n",
    "    dequeue(){\n",
    "        return this.items.shift();\n",
    "    }\n",
    "\n",
    "    // front() 查看队列的队头元素\n",
    "    front(){\n",
    "        return this.items[0];\n",
    "    }\n",
    "\n",
    "    // isEmpty() 查看队列是否为空\n",
    "    isEmpty(){\n",
    "        return this.items.length === 0;\n",
    "    }\n",
    "\n",
    "    // size() 查看队列中元素的个数\n",
    "    size(){\n",
    "        return this.items.length;\n",
    "    }\n",
    "\n",
    "    // toString() 将队列中的元素以字符串形式返回\n",
    "    toString(){\n",
    "        let result=\"\";\n",
    "        for (const item of this.items) {\n",
    "            result+=item+\" \";\n",
    "        }\n",
    "        return result;\n",
    "    }\n",
    "}"
   ]
  },
  {
   "cell_type": "code",
   "execution_count": 2,
   "metadata": {},
   "outputs": [
    {
     "name": "stdout",
     "output_type": "stream",
     "text": [
      "[ 'a', 'b', 'c', 'd' ]\n"
     ]
    }
   ],
   "source": [
    "\n",
    "const queue=new Queue();\n",
    "\n",
    "queue.enqueue(\"a\");\n",
    "queue.enqueue(\"b\");\n",
    "queue.enqueue(\"c\");\n",
    "queue.enqueue(\"d\");\n",
    "\n",
    "console.log(queue.items);"
   ]
  },
  {
   "cell_type": "code",
   "execution_count": 3,
   "metadata": {},
   "outputs": [
    {
     "name": "stdout",
     "output_type": "stream",
     "text": [
      "[ 'b', 'c', 'd' ]\n"
     ]
    }
   ],
   "source": [
    "// dequeue()\n",
    "queue.dequeue();\n",
    "console.log(queue.items);"
   ]
  },
  {
   "cell_type": "code",
   "execution_count": 4,
   "metadata": {},
   "outputs": [
    {
     "name": "stdout",
     "output_type": "stream",
     "text": [
      "b\n"
     ]
    }
   ],
   "source": [
    "// front()\n",
    "console.log(queue.front());"
   ]
  },
  {
   "cell_type": "code",
   "execution_count": 5,
   "metadata": {},
   "outputs": [
    {
     "name": "stdout",
     "output_type": "stream",
     "text": [
      "false\n"
     ]
    }
   ],
   "source": [
    "// isEmpty()\n",
    "console.log(queue.isEmpty());"
   ]
  },
  {
   "cell_type": "code",
   "execution_count": 6,
   "metadata": {},
   "outputs": [
    {
     "name": "stdout",
     "output_type": "stream",
     "text": [
      "3\n"
     ]
    }
   ],
   "source": [
    "// size()\n",
    "console.log(queue.size());"
   ]
  },
  {
   "cell_type": "code",
   "execution_count": 7,
   "metadata": {},
   "outputs": [
    {
     "name": "stdout",
     "output_type": "stream",
     "text": [
      "b c d \n"
     ]
    }
   ],
   "source": [
    "// toString()\n",
    "console.log(queue.toString());"
   ]
  },
  {
   "cell_type": "code",
   "execution_count": 8,
   "metadata": {},
   "outputs": [],
   "source": [
    "// 击鼓传花\n",
    "// 利用队列结构的特点实现击鼓传花游戏求解方法的封装\n",
    "\n",
    "function passGame(nameList,number) {\n",
    "    // 1、new一个Queue对象\n",
    "    const queue=new Queue();\n",
    "\n",
    "    // 2、将 nameList 里面的每一个元素入队\n",
    "    for (const name of nameList) {\n",
    "        queue.enqueue(name);\n",
    "    }\n",
    "\n",
    "    // 3、开始数数\n",
    "    // 队列中只剩下 1 个元素时就停止数数\n",
    "    while(queue.size()>1){\n",
    "        // 不是 number 时，重新加入到队尾\n",
    "        // 是 number 时，将其删除\n",
    "        for (let i = 0; i < number-1; i++) {\n",
    "            // number 数字之前的人重新放入到队尾（即把队头删除的元素，重新加入到队列中）\n",
    "            queue.enqueue(queue.dequeue());\n",
    "        }\n",
    "        // number 对应这个人，直接从队列中删除\n",
    "        // 由于队列没有像数组一样的下标值不能直接取到某一元素，\n",
    "        // 所以采用，把 number 前面的 number - 1 个元素先删除后添加到队列末尾，\n",
    "        // 这样第 number 个元素就排到了队列的最前面，可以直接使用 dequeue 方法进行删除\n",
    "\n",
    "        queue.dequeue();\n",
    "    }\n",
    "\n",
    "    // 4、获取最后剩下的那个人\n",
    "    const endName=queue.front();\n",
    "\n",
    "    // 5、返回这个人在原数组中对应的索引\n",
    "    return nameList.indexOf(endName);\n",
    "}"
   ]
  },
  {
   "cell_type": "code",
   "execution_count": 9,
   "metadata": {},
   "outputs": [
    {
     "name": "stdout",
     "output_type": "stream",
     "text": [
      "击鼓传花 lily\n"
     ]
    }
   ],
   "source": [
    "// passGame()\n",
    "const names=[\"lily\", \"lucy\", \"tom\", \"tony\", \"jack\"];\n",
    "const targetIndex=passGame(names,4);\n",
    "console.log(\"击鼓传花\",names[targetIndex]);"
   ]
  },
  {
   "cell_type": "code",
   "execution_count": 10,
   "metadata": {},
   "outputs": [
    {
     "name": "stdout",
     "output_type": "stream",
     "text": [
      "击鼓传花 A\n"
     ]
    }
   ],
   "source": [
    "const nameList=[\"A\",\"B\",\"C\",\"D\",\"E\"];\n",
    "const index=passGame(nameList,4);\n",
    "console.log(\"击鼓传花\",nameList[index]);"
   ]
  }
 ],
 "metadata": {
  "kernelspec": {
   "display_name": "JavaScript (Node.js)",
   "language": "javascript",
   "name": "javascript"
  },
  "language_info": {
   "file_extension": ".js",
   "mimetype": "application/javascript",
   "name": "javascript",
   "version": "16.13.1"
  },
  "orig_nbformat": 4
 },
 "nbformat": 4,
 "nbformat_minor": 2
}
